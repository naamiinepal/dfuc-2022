{
 "cells": [
  {
   "cell_type": "markdown",
   "metadata": {},
   "source": [
    "# Image and segmentation mask visualization"
   ]
  },
  {
   "cell_type": "code",
   "execution_count": null,
   "metadata": {},
   "outputs": [],
   "source": [
    "import os\n",
    "from glob import glob\n",
    "\n",
    "import matplotlib.pyplot as plt\n",
    "from matplotlib import image"
   ]
  },
  {
   "cell_type": "code",
   "execution_count": null,
   "metadata": {},
   "outputs": [],
   "source": [
    "base_dir = \"\"\n",
    "train_img_dir = \"\"\n",
    "train_seg_dir = \"\"\n",
    "val_img_dir = \"\"\n",
    "val_seg_dir = \"\""
   ]
  },
  {
   "cell_type": "code",
   "execution_count": null,
   "metadata": {},
   "outputs": [],
   "source": [
    "train_img = sorted(glob(os.path.join(base_dir + train_img_dir, '*.jpg')))\n",
    "train_seg = sorted(glob(os.path.join(base_dir + train_seg_dir, '*.png')))\n",
    "val_img = sorted(glob(os.path.join(base_dir + val_img_dir, '*.jpg')))\n",
    "val_seg = sorted(glob(os.path.join(base_dir + val_seg_dir, '*.png')))"
   ]
  },
  {
   "cell_type": "code",
   "execution_count": null,
   "metadata": {},
   "outputs": [],
   "source": [
    "train_idx = 0\n",
    "val_idx = 0"
   ]
  },
  {
   "cell_type": "code",
   "execution_count": null,
   "metadata": {},
   "outputs": [],
   "source": [
    "train_img = image.imread(train_img[train_idx])\n",
    "train_seg = image.imread(train_seg[train_idx])\n",
    "val_img = image.imread(val_img[val_idx])\n",
    "val_seg = image.imread(val_seg[val_idx])"
   ]
  },
  {
   "cell_type": "code",
   "execution_count": null,
   "metadata": {},
   "outputs": [],
   "source": [
    "plt.figure(figsize=(10, 10))\n",
    "plt.subplot(2, 2, 1)\n",
    "plt.imshow(train_img)\n",
    "plt.subplot(2, 2, 2)\n",
    "plt.imshow(train_seg, cmap=\"gray\")\n",
    "plt.subplot(2, 2, 3)\n",
    "plt.imshow(val_img)\n",
    "plt.subplot(2, 2, 4)\n",
    "plt.imshow(val_seg, cmap=\"gray\")"
   ]
  },
  {
   "cell_type": "code",
   "execution_count": null,
   "metadata": {},
   "outputs": [],
   "source": []
  }
 ],
 "metadata": {
  "interpreter": {
   "hash": "e3f0fddcae5448ecb26105814ea9db32b080062dd559625bb2014073729969a1"
  },
  "kernelspec": {
   "display_name": "Python 3 (ipykernel)",
   "language": "python",
   "name": "python3"
  },
  "language_info": {
   "codemirror_mode": {
    "name": "ipython",
    "version": 3
   },
   "file_extension": ".py",
   "mimetype": "text/x-python",
   "name": "python",
   "nbconvert_exporter": "python",
   "pygments_lexer": "ipython3",
   "version": "3.8.10"
  }
 },
 "nbformat": 4,
 "nbformat_minor": 2
}
